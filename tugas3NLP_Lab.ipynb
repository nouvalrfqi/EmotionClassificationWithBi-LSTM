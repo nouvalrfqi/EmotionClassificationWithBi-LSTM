{
  "nbformat": 4,
  "nbformat_minor": 0,
  "metadata": {
    "colab": {
      "provenance": [],
      "toc_visible": true
    },
    "kernelspec": {
      "name": "python3",
      "display_name": "Python 3"
    },
    "language_info": {
      "name": "python"
    }
  },
  "cells": [
    {
      "cell_type": "markdown",
      "source": [
        "# EDA"
      ],
      "metadata": {
        "id": "9d8X7pi9x8rD"
      }
    },
    {
      "cell_type": "code",
      "execution_count": 1,
      "metadata": {
        "colab": {
          "base_uri": "https://localhost:8080/"
        },
        "id": "fceADtfUR8sF",
        "outputId": "22cfb683-3166-432e-adbc-385a0c6a31fe"
      },
      "outputs": [
        {
          "output_type": "stream",
          "name": "stdout",
          "text": [
            "Mounted at /content/drive\n"
          ]
        }
      ],
      "source": [
        "from google.colab import drive\n",
        "drive.mount('/content/drive')"
      ]
    },
    {
      "cell_type": "code",
      "source": [
        "import pandas as pd\n",
        "\n",
        "# Path ke file txt kamu\n",
        "txt_path = '/content/drive/My Drive/Colab Notebooks/Tugas3NLP/train.txt'\n",
        "csv_output_path = '/content/drive/My Drive/Colab Notebooks/Tugas3NLP/train.csv'\n",
        "\n",
        "# Baca file txt\n",
        "data = []\n",
        "with open(txt_path, 'r', encoding='utf-8') as f:\n",
        "    for line in f:\n",
        "        if ';' in line:\n",
        "            text, label = line.strip().split(';')\n",
        "            data.append({'text': text, 'label': label})\n",
        "\n",
        "# Ubah ke DataFrame\n",
        "df = pd.DataFrame(data)\n",
        "\n",
        "# Simpan ke CSV\n",
        "df.to_csv(csv_output_path, index=False)\n",
        "\n",
        "# Cek isi\n",
        "print(df.head())\n"
      ],
      "metadata": {
        "colab": {
          "base_uri": "https://localhost:8080/"
        },
        "id": "L7R2PcavS72V",
        "outputId": "700b6a37-3434-4925-f94a-698f03eda0d0"
      },
      "execution_count": 6,
      "outputs": [
        {
          "output_type": "stream",
          "name": "stdout",
          "text": [
            "                                                text    label\n",
            "0                            i didnt feel humiliated  sadness\n",
            "1  i can go from feeling so hopeless to so damned...  sadness\n",
            "2   im grabbing a minute to post i feel greedy wrong    anger\n",
            "3  i am ever feeling nostalgic about the fireplac...     love\n",
            "4                               i am feeling grouchy    anger\n"
          ]
        }
      ]
    },
    {
      "cell_type": "code",
      "source": [
        "import pandas as pd\n",
        "\n",
        "# Path ke file txt kamu\n",
        "txt_path = '/content/drive/My Drive/Colab Notebooks/Tugas3NLP/test.txt'\n",
        "csv_output_path = '/content/drive/My Drive/Colab Notebooks/Tugas3NLP/test.csv'\n",
        "\n",
        "# Baca file txt\n",
        "data = []\n",
        "with open(txt_path, 'r', encoding='utf-8') as f:\n",
        "    for line in f:\n",
        "        if ';' in line:\n",
        "            text, label = line.strip().split(';')\n",
        "            data.append({'text': text, 'label': label})\n",
        "\n",
        "# Ubah ke DataFrame\n",
        "df = pd.DataFrame(data)\n",
        "\n",
        "# Simpan ke CSV\n",
        "df.to_csv(csv_output_path, index=False)\n",
        "\n",
        "# Cek isi\n",
        "print(df.head())\n"
      ],
      "metadata": {
        "colab": {
          "base_uri": "https://localhost:8080/"
        },
        "id": "xj_32UdhUjN1",
        "outputId": "dffa14df-e49e-48ab-8370-7c5b1e6219bb"
      },
      "execution_count": 8,
      "outputs": [
        {
          "output_type": "stream",
          "name": "stdout",
          "text": [
            "                                                text    label\n",
            "0  im feeling rather rotten so im not very ambiti...  sadness\n",
            "1          im updating my blog because i feel shitty  sadness\n",
            "2  i never make her separate from me because i do...  sadness\n",
            "3  i left with my bouquet of red and yellow tulip...      joy\n",
            "4    i was feeling a little vain when i did this one  sadness\n"
          ]
        }
      ]
    },
    {
      "cell_type": "code",
      "source": [
        "import pandas as pd\n",
        "\n",
        "# Path ke file txt kamu\n",
        "txt_path = '/content/drive/My Drive/Colab Notebooks/Tugas3NLP/val.txt'\n",
        "csv_output_path = '/content/drive/My Drive/Colab Notebooks/Tugas3NLP/val.csv'\n",
        "\n",
        "# Baca file txt\n",
        "data = []\n",
        "with open(txt_path, 'r', encoding='utf-8') as f:\n",
        "    for line in f:\n",
        "        if ';' in line:\n",
        "            text, label = line.strip().split(';')\n",
        "            data.append({'text': text, 'label': label})\n",
        "\n",
        "# Ubah ke DataFrame\n",
        "df = pd.DataFrame(data)\n",
        "\n",
        "# Simpan ke CSV\n",
        "df.to_csv(csv_output_path, index=False)\n",
        "\n",
        "# Cek isi\n",
        "print(df.head())\n"
      ],
      "metadata": {
        "colab": {
          "base_uri": "https://localhost:8080/"
        },
        "id": "2K8-ljePUjyi",
        "outputId": "6cc3b3eb-ec35-4df2-c069-ed006f831ead"
      },
      "execution_count": 9,
      "outputs": [
        {
          "output_type": "stream",
          "name": "stdout",
          "text": [
            "                                                text    label\n",
            "0  im feeling quite sad and sorry for myself but ...  sadness\n",
            "1  i feel like i am still looking at a blank canv...  sadness\n",
            "2                     i feel like a faithful servant     love\n",
            "3                  i am just feeling cranky and blue    anger\n",
            "4  i can have for a treat or if i am feeling festive      joy\n"
          ]
        }
      ]
    },
    {
      "cell_type": "code",
      "source": [
        "import pandas as pd\n",
        "\n",
        "train_df = pd.read_csv('/content/drive/My Drive/Colab Notebooks/Tugas3NLP/train.csv', sep=',', encoding='utf-8')\n",
        "val_df   = pd.read_csv('/content/drive/My Drive/Colab Notebooks/Tugas3NLP/val.csv', sep=',', encoding='utf-8')\n",
        "test_df  = pd.read_csv('/content/drive/My Drive/Colab Notebooks/Tugas3NLP/test.csv', sep=',', encoding='utf-8')\n",
        "\n",
        "# Periksa kolom dan isi\n",
        "print(\"Kolom train_df:\", train_df.columns)\n",
        "print(train_df.head())\n",
        "print(\"Kolom val_df:\", val_df.columns)\n",
        "print(val_df.head())\n",
        "print(\"Kolom test_df:\", test_df.columns)\n",
        "print(test_df.head())"
      ],
      "metadata": {
        "colab": {
          "base_uri": "https://localhost:8080/"
        },
        "id": "HRSeKgh4Sx1i",
        "outputId": "c0653099-4404-49a2-c845-15176758f3d4"
      },
      "execution_count": 18,
      "outputs": [
        {
          "output_type": "stream",
          "name": "stdout",
          "text": [
            "Kolom train_df: Index(['text', 'label'], dtype='object')\n",
            "                                                text    label\n",
            "0                            i didnt feel humiliated  sadness\n",
            "1  i can go from feeling so hopeless to so damned...  sadness\n",
            "2   im grabbing a minute to post i feel greedy wrong    anger\n",
            "3  i am ever feeling nostalgic about the fireplac...     love\n",
            "4                               i am feeling grouchy    anger\n",
            "Kolom val_df: Index(['text', 'label'], dtype='object')\n",
            "                                                text    label\n",
            "0  im feeling quite sad and sorry for myself but ...  sadness\n",
            "1  i feel like i am still looking at a blank canv...  sadness\n",
            "2                     i feel like a faithful servant     love\n",
            "3                  i am just feeling cranky and blue    anger\n",
            "4  i can have for a treat or if i am feeling festive      joy\n",
            "Kolom test_df: Index(['text', 'label'], dtype='object')\n",
            "                                                text    label\n",
            "0  im feeling rather rotten so im not very ambiti...  sadness\n",
            "1          im updating my blog because i feel shitty  sadness\n",
            "2  i never make her separate from me because i do...  sadness\n",
            "3  i left with my bouquet of red and yellow tulip...      joy\n",
            "4    i was feeling a little vain when i did this one  sadness\n"
          ]
        }
      ]
    },
    {
      "cell_type": "markdown",
      "source": [
        "# Prepo dataset"
      ],
      "metadata": {
        "id": "svNMv9SZaSBS"
      }
    },
    {
      "cell_type": "code",
      "source": [
        "import pandas as pd\n",
        "import re\n",
        "import nltk\n",
        "from nltk.corpus import stopwords\n",
        "from nltk.tokenize import word_tokenize\n",
        "from nltk.stem import WordNetLemmatizer\n",
        "from tensorflow.keras.preprocessing.text import Tokenizer\n",
        "from tensorflow.keras.preprocessing.sequence import pad_sequences\n",
        "from sklearn.preprocessing import LabelEncoder\n",
        "\n",
        "# Download resource NLTK yang diperlukan\n",
        "nltk.download('punkt_tab')  # Diperbarui dari 'punkt' ke 'punkt_tab'\n",
        "nltk.download('stopwords')\n",
        "nltk.download('wordnet')\n",
        "\n",
        "# Baca data (dengan perbaikan sep=',')\n",
        "train_df = pd.read_csv('/content/drive/My Drive/Colab Notebooks/Tugas3NLP/train.csv', sep=',', encoding='utf-8')\n",
        "val_df   = pd.read_csv('/content/drive/My Drive/Colab Notebooks/Tugas3NLP/val.csv', sep=',', encoding='utf-8')\n",
        "test_df  = pd.read_csv('/content/drive/My Drive/Colab Notebooks/Tugas3NLP/test.csv', sep=',', encoding='utf-8')\n",
        "\n",
        "# Fungsi pembersihan teks\n",
        "def clean_text(text):\n",
        "    text = text.lower()\n",
        "    text = re.sub(r'[^a-zA-Z\\s]', '', text)\n",
        "    tokens = word_tokenize(text)  # Ini membutuhkan punkt_tab\n",
        "    stop_words = set(stopwords.words('english'))\n",
        "    tokens = [word for word in tokens if word not in stop_words]\n",
        "    lemmatizer = WordNetLemmatizer()\n",
        "    tokens = [lemmatizer.lemmatize(word) for word in tokens]\n",
        "    cleaned_text = ' '.join(tokens)\n",
        "    return cleaned_text\n",
        "\n",
        "# Terapkan pembersihan teks\n",
        "train_df['cleaned_text'] = train_df['text'].apply(clean_text)\n",
        "val_df['cleaned_text'] = val_df['text'].apply(clean_text)\n",
        "test_df['cleaned_text'] = test_df['text'].apply(clean_text)\n",
        "\n",
        "# Cek hasil\n",
        "print(\"Contoh train_df setelah pembersihan:\")\n",
        "print(train_df[['text', 'cleaned_text']].head())\n",
        "print(\"Contoh val_df setelah pembersihan:\")\n",
        "print(val_df[['text', 'cleaned_text']].head())\n",
        "print(\"Contoh test_df setelah pembersihan:\")\n",
        "print(test_df[['text', 'cleaned_text']].head())"
      ],
      "metadata": {
        "colab": {
          "base_uri": "https://localhost:8080/"
        },
        "id": "HLcGJQ7lWjMn",
        "outputId": "7daf9fe3-5346-4ce4-ece3-5e62fceb744f"
      },
      "execution_count": 20,
      "outputs": [
        {
          "output_type": "stream",
          "name": "stderr",
          "text": [
            "[nltk_data] Downloading package punkt_tab to /root/nltk_data...\n",
            "[nltk_data]   Unzipping tokenizers/punkt_tab.zip.\n",
            "[nltk_data] Downloading package stopwords to /root/nltk_data...\n",
            "[nltk_data]   Package stopwords is already up-to-date!\n",
            "[nltk_data] Downloading package wordnet to /root/nltk_data...\n",
            "[nltk_data]   Package wordnet is already up-to-date!\n"
          ]
        },
        {
          "output_type": "stream",
          "name": "stdout",
          "text": [
            "Contoh train_df setelah pembersihan:\n",
            "                                                text  \\\n",
            "0                            i didnt feel humiliated   \n",
            "1  i can go from feeling so hopeless to so damned...   \n",
            "2   im grabbing a minute to post i feel greedy wrong   \n",
            "3  i am ever feeling nostalgic about the fireplac...   \n",
            "4                               i am feeling grouchy   \n",
            "\n",
            "                                        cleaned_text  \n",
            "0                              didnt feel humiliated  \n",
            "1  go feeling hopeless damned hopeful around some...  \n",
            "2          im grabbing minute post feel greedy wrong  \n",
            "3  ever feeling nostalgic fireplace know still pr...  \n",
            "4                                    feeling grouchy  \n",
            "Contoh val_df setelah pembersihan:\n",
            "                                                text  \\\n",
            "0  im feeling quite sad and sorry for myself but ...   \n",
            "1  i feel like i am still looking at a blank canv...   \n",
            "2                     i feel like a faithful servant   \n",
            "3                  i am just feeling cranky and blue   \n",
            "4  i can have for a treat or if i am feeling festive   \n",
            "\n",
            "                                        cleaned_text  \n",
            "0           im feeling quite sad sorry ill snap soon  \n",
            "1  feel like still looking blank canvas blank pie...  \n",
            "2                         feel like faithful servant  \n",
            "3                                feeling cranky blue  \n",
            "4                              treat feeling festive  \n",
            "Contoh test_df setelah pembersihan:\n",
            "                                                text  \\\n",
            "0  im feeling rather rotten so im not very ambiti...   \n",
            "1          im updating my blog because i feel shitty   \n",
            "2  i never make her separate from me because i do...   \n",
            "3  i left with my bouquet of red and yellow tulip...   \n",
            "4    i was feeling a little vain when i did this one   \n",
            "\n",
            "                                        cleaned_text  \n",
            "0        im feeling rather rotten im ambitious right  \n",
            "1                       im updating blog feel shitty  \n",
            "2    never make separate ever want feel like ashamed  \n",
            "3  left bouquet red yellow tulip arm feeling slig...  \n",
            "4                            feeling little vain one  \n"
          ]
        }
      ]
    },
    {
      "cell_type": "code",
      "source": [
        "# Tokenisasi dan vektorisasi\n",
        "max_words = 5000  # Jumlah kata maksimum dalam vocabulary\n",
        "max_len = 30      # Panjang maksimum urutan teks (berdasarkan analisis)\n",
        "\n",
        "tokenizer = Tokenizer(num_words=max_words, oov_token='<OOV>')\n",
        "tokenizer.fit_on_texts(train_df['cleaned_text'])\n",
        "\n",
        "# Ubah teks menjadi urutan angka\n",
        "train_sequences = tokenizer.texts_to_sequences(train_df['cleaned_text'])\n",
        "val_sequences = tokenizer.texts_to_sequences(val_df['cleaned_text'])\n",
        "test_sequences = tokenizer.texts_to_sequences(test_df['cleaned_text'])\n",
        "\n",
        "# Padding urutan\n",
        "train_padded = pad_sequences(train_sequences, maxlen=max_len, padding='post', truncating='post')\n",
        "val_padded = pad_sequences(val_sequences, maxlen=max_len, padding='post', truncating='post')\n",
        "test_padded = pad_sequences(test_sequences, maxlen=max_len, padding='post', truncating='post')\n",
        "\n",
        "# Cek bentuk data setelah padding\n",
        "print(\"Shape of train_padded:\", train_padded.shape)\n",
        "print(\"Shape of val_padded:\", val_padded.shape)\n",
        "print(\"Shape of test_padded:\", test_padded.shape)\n",
        "\n",
        "# Encode label\n",
        "label_encoder = LabelEncoder()\n",
        "train_labels = label_encoder.fit_transform(train_df['label'])\n",
        "val_labels = label_encoder.transform(val_df['label'])\n",
        "test_labels = label_encoder.transform(test_df['label'])\n",
        "\n",
        "# Cek label yang diencode\n",
        "print(\"Encoded labels:\", label_encoder.classes_)"
      ],
      "metadata": {
        "colab": {
          "base_uri": "https://localhost:8080/"
        },
        "id": "D_nU6QLgcFUv",
        "outputId": "d135f657-0f01-475c-e887-48b7d6635c88"
      },
      "execution_count": 21,
      "outputs": [
        {
          "output_type": "stream",
          "name": "stdout",
          "text": [
            "Shape of train_padded: (16000, 30)\n",
            "Shape of val_padded: (2000, 30)\n",
            "Shape of test_padded: (2000, 30)\n",
            "Encoded labels: ['anger' 'fear' 'joy' 'love' 'sadness' 'surprise']\n"
          ]
        }
      ]
    },
    {
      "cell_type": "markdown",
      "source": [
        "# Model Build BI-LSTM"
      ],
      "metadata": {
        "id": "2owj7c5Ug5QU"
      }
    },
    {
      "cell_type": "markdown",
      "source": [
        "## 1. Bangun Framework Bi-LSTM"
      ],
      "metadata": {
        "id": "ztLzUPgIigHQ"
      }
    },
    {
      "cell_type": "code",
      "source": [
        "from tensorflow.keras.models import Sequential\n",
        "from tensorflow.keras.layers import Embedding, Bidirectional, LSTM, Dense, Dropout, Masking\n",
        "\n",
        "# Parameter model\n",
        "embedding_dim = 100  # Dimensi embedding\n",
        "num_classes = len(label_encoder.classes_)\n",
        "\n",
        "# Bangun model Bi-LSTM\n",
        "model = Sequential([\n",
        "    # Layer Embedding untuk mengubah token menjadi vektor\n",
        "    Embedding(input_dim=max_words, output_dim=embedding_dim, input_length=max_len),\n",
        "\n",
        "    # Masking untuk mengabaikan nilai padding (0)\n",
        "    Masking(mask_value=0.0),\n",
        "\n",
        "    # Layer Bi-LSTM\n",
        "    Bidirectional(LSTM(64, return_sequences=False)),\n",
        "\n",
        "    # Layer Dense untuk klasifikasi\n",
        "    Dense(64, activation='relu'),\n",
        "    Dropout(0.7),  # Dropout untuk mencegah overfitting\n",
        "\n",
        "    # Layer output dengan softmax untuk klasifikasi multi-kelas\n",
        "    Dense(num_classes, activation='softmax')\n",
        "])\n",
        "\n",
        "# Kompilasi model\n",
        "model.compile(optimizer='adam',\n",
        "              loss='sparse_categorical_crossentropy',  # Untuk label integer\n",
        "              metrics=['accuracy'])\n",
        "\n",
        "# Ringkasan model\n",
        "model.summary()"
      ],
      "metadata": {
        "colab": {
          "base_uri": "https://localhost:8080/",
          "height": 386
        },
        "id": "ZoUyF70WfsXz",
        "outputId": "ca441d64-e7de-4878-a0b7-334d6737b7ad"
      },
      "execution_count": 28,
      "outputs": [
        {
          "output_type": "stream",
          "name": "stderr",
          "text": [
            "/usr/local/lib/python3.11/dist-packages/keras/src/layers/core/embedding.py:90: UserWarning: Argument `input_length` is deprecated. Just remove it.\n",
            "  warnings.warn(\n"
          ]
        },
        {
          "output_type": "display_data",
          "data": {
            "text/plain": [
              "\u001b[1mModel: \"sequential_1\"\u001b[0m\n"
            ],
            "text/html": [
              "<pre style=\"white-space:pre;overflow-x:auto;line-height:normal;font-family:Menlo,'DejaVu Sans Mono',consolas,'Courier New',monospace\"><span style=\"font-weight: bold\">Model: \"sequential_1\"</span>\n",
              "</pre>\n"
            ]
          },
          "metadata": {}
        },
        {
          "output_type": "display_data",
          "data": {
            "text/plain": [
              "┏━━━━━━━━━━━━━━━━━━━━━━━━━━━━━━━━━┳━━━━━━━━━━━━━━━━━━━━━━━━┳━━━━━━━━━━━━━━━┓\n",
              "┃\u001b[1m \u001b[0m\u001b[1mLayer (type)                   \u001b[0m\u001b[1m \u001b[0m┃\u001b[1m \u001b[0m\u001b[1mOutput Shape          \u001b[0m\u001b[1m \u001b[0m┃\u001b[1m \u001b[0m\u001b[1m      Param #\u001b[0m\u001b[1m \u001b[0m┃\n",
              "┡━━━━━━━━━━━━━━━━━━━━━━━━━━━━━━━━━╇━━━━━━━━━━━━━━━━━━━━━━━━╇━━━━━━━━━━━━━━━┩\n",
              "│ embedding_1 (\u001b[38;5;33mEmbedding\u001b[0m)         │ ?                      │   \u001b[38;5;34m0\u001b[0m (unbuilt) │\n",
              "├─────────────────────────────────┼────────────────────────┼───────────────┤\n",
              "│ masking_1 (\u001b[38;5;33mMasking\u001b[0m)             │ ?                      │             \u001b[38;5;34m0\u001b[0m │\n",
              "├─────────────────────────────────┼────────────────────────┼───────────────┤\n",
              "│ bidirectional_1 (\u001b[38;5;33mBidirectional\u001b[0m) │ ?                      │   \u001b[38;5;34m0\u001b[0m (unbuilt) │\n",
              "├─────────────────────────────────┼────────────────────────┼───────────────┤\n",
              "│ dense_2 (\u001b[38;5;33mDense\u001b[0m)                 │ ?                      │   \u001b[38;5;34m0\u001b[0m (unbuilt) │\n",
              "├─────────────────────────────────┼────────────────────────┼───────────────┤\n",
              "│ dropout_1 (\u001b[38;5;33mDropout\u001b[0m)             │ ?                      │             \u001b[38;5;34m0\u001b[0m │\n",
              "├─────────────────────────────────┼────────────────────────┼───────────────┤\n",
              "│ dense_3 (\u001b[38;5;33mDense\u001b[0m)                 │ ?                      │   \u001b[38;5;34m0\u001b[0m (unbuilt) │\n",
              "└─────────────────────────────────┴────────────────────────┴───────────────┘\n"
            ],
            "text/html": [
              "<pre style=\"white-space:pre;overflow-x:auto;line-height:normal;font-family:Menlo,'DejaVu Sans Mono',consolas,'Courier New',monospace\">┏━━━━━━━━━━━━━━━━━━━━━━━━━━━━━━━━━┳━━━━━━━━━━━━━━━━━━━━━━━━┳━━━━━━━━━━━━━━━┓\n",
              "┃<span style=\"font-weight: bold\"> Layer (type)                    </span>┃<span style=\"font-weight: bold\"> Output Shape           </span>┃<span style=\"font-weight: bold\">       Param # </span>┃\n",
              "┡━━━━━━━━━━━━━━━━━━━━━━━━━━━━━━━━━╇━━━━━━━━━━━━━━━━━━━━━━━━╇━━━━━━━━━━━━━━━┩\n",
              "│ embedding_1 (<span style=\"color: #0087ff; text-decoration-color: #0087ff\">Embedding</span>)         │ ?                      │   <span style=\"color: #00af00; text-decoration-color: #00af00\">0</span> (unbuilt) │\n",
              "├─────────────────────────────────┼────────────────────────┼───────────────┤\n",
              "│ masking_1 (<span style=\"color: #0087ff; text-decoration-color: #0087ff\">Masking</span>)             │ ?                      │             <span style=\"color: #00af00; text-decoration-color: #00af00\">0</span> │\n",
              "├─────────────────────────────────┼────────────────────────┼───────────────┤\n",
              "│ bidirectional_1 (<span style=\"color: #0087ff; text-decoration-color: #0087ff\">Bidirectional</span>) │ ?                      │   <span style=\"color: #00af00; text-decoration-color: #00af00\">0</span> (unbuilt) │\n",
              "├─────────────────────────────────┼────────────────────────┼───────────────┤\n",
              "│ dense_2 (<span style=\"color: #0087ff; text-decoration-color: #0087ff\">Dense</span>)                 │ ?                      │   <span style=\"color: #00af00; text-decoration-color: #00af00\">0</span> (unbuilt) │\n",
              "├─────────────────────────────────┼────────────────────────┼───────────────┤\n",
              "│ dropout_1 (<span style=\"color: #0087ff; text-decoration-color: #0087ff\">Dropout</span>)             │ ?                      │             <span style=\"color: #00af00; text-decoration-color: #00af00\">0</span> │\n",
              "├─────────────────────────────────┼────────────────────────┼───────────────┤\n",
              "│ dense_3 (<span style=\"color: #0087ff; text-decoration-color: #0087ff\">Dense</span>)                 │ ?                      │   <span style=\"color: #00af00; text-decoration-color: #00af00\">0</span> (unbuilt) │\n",
              "└─────────────────────────────────┴────────────────────────┴───────────────┘\n",
              "</pre>\n"
            ]
          },
          "metadata": {}
        },
        {
          "output_type": "display_data",
          "data": {
            "text/plain": [
              "\u001b[1m Total params: \u001b[0m\u001b[38;5;34m0\u001b[0m (0.00 B)\n"
            ],
            "text/html": [
              "<pre style=\"white-space:pre;overflow-x:auto;line-height:normal;font-family:Menlo,'DejaVu Sans Mono',consolas,'Courier New',monospace\"><span style=\"font-weight: bold\"> Total params: </span><span style=\"color: #00af00; text-decoration-color: #00af00\">0</span> (0.00 B)\n",
              "</pre>\n"
            ]
          },
          "metadata": {}
        },
        {
          "output_type": "display_data",
          "data": {
            "text/plain": [
              "\u001b[1m Trainable params: \u001b[0m\u001b[38;5;34m0\u001b[0m (0.00 B)\n"
            ],
            "text/html": [
              "<pre style=\"white-space:pre;overflow-x:auto;line-height:normal;font-family:Menlo,'DejaVu Sans Mono',consolas,'Courier New',monospace\"><span style=\"font-weight: bold\"> Trainable params: </span><span style=\"color: #00af00; text-decoration-color: #00af00\">0</span> (0.00 B)\n",
              "</pre>\n"
            ]
          },
          "metadata": {}
        },
        {
          "output_type": "display_data",
          "data": {
            "text/plain": [
              "\u001b[1m Non-trainable params: \u001b[0m\u001b[38;5;34m0\u001b[0m (0.00 B)\n"
            ],
            "text/html": [
              "<pre style=\"white-space:pre;overflow-x:auto;line-height:normal;font-family:Menlo,'DejaVu Sans Mono',consolas,'Courier New',monospace\"><span style=\"font-weight: bold\"> Non-trainable params: </span><span style=\"color: #00af00; text-decoration-color: #00af00\">0</span> (0.00 B)\n",
              "</pre>\n"
            ]
          },
          "metadata": {}
        }
      ]
    },
    {
      "cell_type": "markdown",
      "source": [
        "## 2. Latih Model"
      ],
      "metadata": {
        "id": "eM_n4Uchidu4"
      }
    },
    {
      "cell_type": "code",
      "source": [
        "# Parameter pelatihan\n",
        "epochs = 10\n",
        "batch_size = 32\n",
        "\n",
        "# Latih model\n",
        "history = model.fit(\n",
        "    train_padded, train_labels,\n",
        "    epochs=epochs,\n",
        "    batch_size=batch_size,\n",
        "    validation_data=(val_padded, val_labels),\n",
        "    verbose=1\n",
        ")"
      ],
      "metadata": {
        "colab": {
          "base_uri": "https://localhost:8080/"
        },
        "id": "qOZlX_LMhA9h",
        "outputId": "54e62bef-1b94-45b2-e7f3-7f21b9a8f4de"
      },
      "execution_count": 29,
      "outputs": [
        {
          "output_type": "stream",
          "name": "stdout",
          "text": [
            "Epoch 1/10\n",
            "\u001b[1m500/500\u001b[0m \u001b[32m━━━━━━━━━━━━━━━━━━━━\u001b[0m\u001b[37m\u001b[0m \u001b[1m40s\u001b[0m 66ms/step - accuracy: 0.3834 - loss: 1.5098 - val_accuracy: 0.8250 - val_loss: 0.5211\n",
            "Epoch 2/10\n",
            "\u001b[1m500/500\u001b[0m \u001b[32m━━━━━━━━━━━━━━━━━━━━\u001b[0m\u001b[37m\u001b[0m \u001b[1m37s\u001b[0m 59ms/step - accuracy: 0.8560 - loss: 0.4437 - val_accuracy: 0.8750 - val_loss: 0.3327\n",
            "Epoch 3/10\n",
            "\u001b[1m500/500\u001b[0m \u001b[32m━━━━━━━━━━━━━━━━━━━━\u001b[0m\u001b[37m\u001b[0m \u001b[1m38s\u001b[0m 53ms/step - accuracy: 0.9157 - loss: 0.2409 - val_accuracy: 0.8785 - val_loss: 0.3590\n",
            "Epoch 4/10\n",
            "\u001b[1m500/500\u001b[0m \u001b[32m━━━━━━━━━━━━━━━━━━━━\u001b[0m\u001b[37m\u001b[0m \u001b[1m40s\u001b[0m 51ms/step - accuracy: 0.9312 - loss: 0.1878 - val_accuracy: 0.8865 - val_loss: 0.3440\n",
            "Epoch 5/10\n",
            "\u001b[1m500/500\u001b[0m \u001b[32m━━━━━━━━━━━━━━━━━━━━\u001b[0m\u001b[37m\u001b[0m \u001b[1m42s\u001b[0m 53ms/step - accuracy: 0.9473 - loss: 0.1461 - val_accuracy: 0.8930 - val_loss: 0.3739\n",
            "Epoch 6/10\n",
            "\u001b[1m500/500\u001b[0m \u001b[32m━━━━━━━━━━━━━━━━━━━━\u001b[0m\u001b[37m\u001b[0m \u001b[1m41s\u001b[0m 53ms/step - accuracy: 0.9588 - loss: 0.1194 - val_accuracy: 0.9050 - val_loss: 0.4311\n",
            "Epoch 7/10\n",
            "\u001b[1m500/500\u001b[0m \u001b[32m━━━━━━━━━━━━━━━━━━━━\u001b[0m\u001b[37m\u001b[0m \u001b[1m42s\u001b[0m 54ms/step - accuracy: 0.9596 - loss: 0.1100 - val_accuracy: 0.9075 - val_loss: 0.4423\n",
            "Epoch 8/10\n",
            "\u001b[1m500/500\u001b[0m \u001b[32m━━━━━━━━━━━━━━━━━━━━\u001b[0m\u001b[37m\u001b[0m \u001b[1m41s\u001b[0m 54ms/step - accuracy: 0.9717 - loss: 0.0866 - val_accuracy: 0.9045 - val_loss: 0.5304\n",
            "Epoch 9/10\n",
            "\u001b[1m500/500\u001b[0m \u001b[32m━━━━━━━━━━━━━━━━━━━━\u001b[0m\u001b[37m\u001b[0m \u001b[1m43s\u001b[0m 59ms/step - accuracy: 0.9773 - loss: 0.0665 - val_accuracy: 0.8900 - val_loss: 0.6032\n",
            "Epoch 10/10\n",
            "\u001b[1m500/500\u001b[0m \u001b[32m━━━━━━━━━━━━━━━━━━━━\u001b[0m\u001b[37m\u001b[0m \u001b[1m36s\u001b[0m 49ms/step - accuracy: 0.9756 - loss: 0.0683 - val_accuracy: 0.9060 - val_loss: 0.4651\n"
          ]
        }
      ]
    },
    {
      "cell_type": "markdown",
      "source": [
        "## 3. Evaluasi Model"
      ],
      "metadata": {
        "id": "zTs-DYw8iaXC"
      }
    },
    {
      "cell_type": "code",
      "source": [
        "# Evaluasi model pada data pengujian\n",
        "test_loss, test_accuracy = model.evaluate(test_padded, test_labels, verbose=0)\n",
        "print(f\"Test Loss: {test_loss:.4f}\")\n",
        "print(f\"Test Accuracy: {test_accuracy:.4f}\")\n",
        "\n",
        "# Prediksi pada data pengujian\n",
        "predictions = model.predict(test_padded)\n",
        "predicted_labels = predictions.argmax(axis=1)  # Ambil label dengan probabilitas tertinggi\n",
        "\n",
        "# Tampilkan beberapa prediksi\n",
        "print(\"\\nBeberapa Contoh Prediksi:\")\n",
        "for i in range(5):\n",
        "    print(f\"Teks: {test_df['text'].iloc[i]}\")\n",
        "    print(f\"Label Sebenarnya: {label_encoder.classes_[test_labels[i]]}\")\n",
        "    print(f\"Label Prediksi: {label_encoder.classes_[predicted_labels[i]]}\\n\")"
      ],
      "metadata": {
        "colab": {
          "base_uri": "https://localhost:8080/"
        },
        "id": "1iK798gbh2Vu",
        "outputId": "84c3c85b-489b-4f17-8aa3-dc997a3404bc"
      },
      "execution_count": 30,
      "outputs": [
        {
          "output_type": "stream",
          "name": "stdout",
          "text": [
            "Test Loss: 0.4038\n",
            "Test Accuracy: 0.9075\n",
            "\u001b[1m63/63\u001b[0m \u001b[32m━━━━━━━━━━━━━━━━━━━━\u001b[0m\u001b[37m\u001b[0m \u001b[1m2s\u001b[0m 19ms/step\n",
            "\n",
            "Beberapa Contoh Prediksi:\n",
            "Teks: im feeling rather rotten so im not very ambitious right now\n",
            "Label Sebenarnya: sadness\n",
            "Label Prediksi: sadness\n",
            "\n",
            "Teks: im updating my blog because i feel shitty\n",
            "Label Sebenarnya: sadness\n",
            "Label Prediksi: sadness\n",
            "\n",
            "Teks: i never make her separate from me because i don t ever want her to feel like i m ashamed with her\n",
            "Label Sebenarnya: sadness\n",
            "Label Prediksi: sadness\n",
            "\n",
            "Teks: i left with my bouquet of red and yellow tulips under my arm feeling slightly more optimistic than when i arrived\n",
            "Label Sebenarnya: joy\n",
            "Label Prediksi: joy\n",
            "\n",
            "Teks: i was feeling a little vain when i did this one\n",
            "Label Sebenarnya: sadness\n",
            "Label Prediksi: sadness\n",
            "\n"
          ]
        }
      ]
    },
    {
      "cell_type": "markdown",
      "source": [
        "## 4. Visualisasi Hasil Pelatihan"
      ],
      "metadata": {
        "id": "RQ1Cj8uHiYAs"
      }
    },
    {
      "cell_type": "code",
      "source": [
        "import matplotlib.pyplot as plt\n",
        "\n",
        "# Plot akurasi\n",
        "plt.figure(figsize=(12, 4))\n",
        "plt.subplot(1, 2, 1)\n",
        "plt.plot(history.history['accuracy'], label='Training Accuracy')\n",
        "plt.plot(history.history['val_accuracy'], label='Validation Accuracy')\n",
        "plt.title('Training and Validation Accuracy')\n",
        "plt.xlabel('Epoch')\n",
        "plt.ylabel('Accuracy')\n",
        "plt.legend()\n",
        "\n",
        "# Plot loss\n",
        "plt.subplot(1, 2, 2)\n",
        "plt.plot(history.history['loss'], label='Training Loss')\n",
        "plt.plot(history.history['val_loss'], label='Validation Loss')\n",
        "plt.title('Training and Validation Loss')\n",
        "plt.xlabel('Epoch')\n",
        "plt.ylabel('Loss')\n",
        "plt.legend()\n",
        "\n",
        "plt.tight_layout()\n",
        "plt.show()"
      ],
      "metadata": {
        "colab": {
          "base_uri": "https://localhost:8080/",
          "height": 360
        },
        "id": "wQkPgvAPh7Fw",
        "outputId": "08dbaf2f-dea5-4c68-9ca0-53453bf53c23"
      },
      "execution_count": 31,
      "outputs": [
        {
          "output_type": "display_data",
          "data": {
            "text/plain": [
              "<Figure size 1200x400 with 2 Axes>"
            ],
            "image/png": "[encoded data removed]"
          },
          "metadata": {}
        }
      ]
    },
    {
      "cell_type": "markdown",
      "source": [
        "## 5. Analisis Performa Lebih Lanjut"
      ],
      "metadata": {
        "id": "JNTv0RZXiVRr"
      }
    },
    {
      "cell_type": "code",
      "source": [
        "from sklearn.metrics import classification_report, confusion_matrix\n",
        "import seaborn as sns\n",
        "\n",
        "# Classification report\n",
        "print(\"Classification Report:\")\n",
        "print(classification_report(test_labels, predicted_labels, target_names=label_encoder.classes_))\n",
        "\n",
        "# Confusion matrix\n",
        "cm = confusion_matrix(test_labels, predicted_labels)\n",
        "plt.figure(figsize=(8, 6))\n",
        "sns.heatmap(cm, annot=True, fmt='d', cmap='Blues', xticklabels=label_encoder.classes_, yticklabels=label_encoder.classes_)\n",
        "plt.title('Confusion Matrix')\n",
        "plt.xlabel('Predicted')\n",
        "plt.ylabel('True')\n",
        "plt.show()"
      ],
      "metadata": {
        "colab": {
          "base_uri": "https://localhost:8080/",
          "height": 814
        },
        "id": "PGbiyCAHh_VY",
        "outputId": "644a3970-0d88-480f-ad26-3c8dde0e539d"
      },
      "execution_count": 32,
      "outputs": [
        {
          "output_type": "stream",
          "name": "stdout",
          "text": [
            "Classification Report:\n",
            "              precision    recall  f1-score   support\n",
            "\n",
            "       anger       0.90      0.93      0.92       275\n",
            "        fear       0.89      0.88      0.89       224\n",
            "         joy       0.92      0.93      0.93       695\n",
            "        love       0.77      0.80      0.78       159\n",
            "     sadness       0.96      0.93      0.94       581\n",
            "    surprise       0.73      0.71      0.72        66\n",
            "\n",
            "    accuracy                           0.91      2000\n",
            "   macro avg       0.86      0.86      0.86      2000\n",
            "weighted avg       0.91      0.91      0.91      2000\n",
            "\n"
          ]
        },
        {
          "output_type": "display_data",
          "data": {
            "text/plain": [
              "<Figure size 800x600 with 2 Axes>"
            ],
            "image/png": "[encoded data removed]"
          },
          "metadata": {}
        }
      ]
    },
    {
      "cell_type": "markdown",
      "source": [
        "## 6. Tuning Hyperparameter (Opsional)"
      ],
      "metadata": {
        "id": "GlfCf2HTiQgL"
      }
    },
    {
      "cell_type": "code",
      "source": [
        "from tensorflow.keras.optimizers import Adam\n",
        "model.compile(optimizer=Adam(learning_rate=0.001), loss='sparse_categorical_crossentropy', metrics=['accuracy'])"
      ],
      "metadata": {
        "id": "pz9mBXqmiCPm"
      },
      "execution_count": 33,
      "outputs": []
    },
    {
      "cell_type": "markdown",
      "source": [
        "## 7. Simpan Model (Opsional)"
      ],
      "metadata": {
        "id": "SYvuiMf-iPhX"
      }
    },
    {
      "cell_type": "code",
      "source": [
        "# Simpan model\n",
        "model.save('/content/drive/My Drive/Colab Notebooks/Tugas3NLP/emotion_classifier.h5')\n",
        "print(\"Model disimpan di:\", '/content/drive/My Drive/Colab Notebooks/Tugas3NLP/emotion_classifier.h5')\n",
        "\n",
        "# Untuk memuat model kembali (di masa depan):\n",
        "# from tensorflow.keras.models import load_model\n",
        "# model = load_model('/content/drive/My Drive/Colab Notebooks/Tugas3NLP/emotion_classifier.h5')"
      ],
      "metadata": {
        "colab": {
          "base_uri": "https://localhost:8080/"
        },
        "id": "eqKB25ePiDvB",
        "outputId": "3117d28d-e444-4ffd-83c0-9b87a58fe1c1"
      },
      "execution_count": 34,
      "outputs": [
        {
          "output_type": "stream",
          "name": "stderr",
          "text": [
            "WARNING:absl:You are saving your model as an HDF5 file via `model.save()` or `keras.saving.save_model(model)`. This file format is considered legacy. We recommend using instead the native Keras format, e.g. `model.save('my_model.keras')` or `keras.saving.save_model(model, 'my_model.keras')`. \n"
          ]
        },
        {
          "output_type": "stream",
          "name": "stdout",
          "text": [
            "Model disimpan di: /content/drive/My Drive/Colab Notebooks/Tugas3NLP/emotion_classifier.h5\n"
          ]
        }
      ]
    },
    {
      "cell_type": "markdown",
      "source": [
        "## 8. Prediksi pada Data Baru (Opsional)"
      ],
      "metadata": {
        "id": "val6N9dPiM8A"
      }
    },
    {
      "cell_type": "code",
      "source": [
        "# Fungsi untuk memproses teks baru\n",
        "def preprocess_new_text(text):\n",
        "    cleaned_text = clean_text(text)  # Gunakan fungsi clean_text dari preprocessing\n",
        "    sequence = tokenizer.texts_to_sequences([cleaned_text])\n",
        "    padded = pad_sequences(sequence, maxlen=max_len, padding='post', truncating='post')\n",
        "    return padded\n",
        "\n",
        "# Contoh teks baru\n",
        "new_text = \"I feel so happy today because I got a new job!\"\n",
        "padded_text = preprocess_new_text(new_text)\n",
        "\n",
        "# Prediksi\n",
        "prediction = model.predict(padded_text)\n",
        "predicted_label = prediction.argmax(axis=1)[0]\n",
        "print(f\"Teks: {new_text}\")\n",
        "print(f\"Prediksi Emosi: {label_encoder.classes_[predicted_label]}\")"
      ],
      "metadata": {
        "colab": {
          "base_uri": "https://localhost:8080/"
        },
        "id": "w-w3NCYtiFLx",
        "outputId": "9bfd9be4-4e86-4cc5-ce9b-23ebefe032a8"
      },
      "execution_count": 35,
      "outputs": [
        {
          "output_type": "stream",
          "name": "stdout",
          "text": [
            "\u001b[1m1/1\u001b[0m \u001b[32m━━━━━━━━━━━━━━━━━━━━\u001b[0m\u001b[37m\u001b[0m \u001b[1m0s\u001b[0m 493ms/step\n",
            "Teks: I feel so happy today because I got a new job!\n",
            "Prediksi Emosi: joy\n"
          ]
        }
      ]
    },
    {
      "cell_type": "code",
      "source": [],
      "metadata": {
        "id": "WPeIk-VYoEm_"
      },
      "execution_count": null,
      "outputs": []
    }
  ]
}